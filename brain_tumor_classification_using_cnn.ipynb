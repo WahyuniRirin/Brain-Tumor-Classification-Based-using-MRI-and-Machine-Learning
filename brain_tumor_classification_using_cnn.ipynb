{
  "nbformat": 4,
  "nbformat_minor": 0,
  "metadata": {
    "colab": {
      "provenance": [],
      "authorship_tag": "ABX9TyM4HUdQOY8WrQWk54i9jI7/",
      "include_colab_link": true
    },
    "kernelspec": {
      "name": "python3",
      "display_name": "Python 3"
    },
    "language_info": {
      "name": "python"
    }
  },
  "cells": [
    {
      "cell_type": "markdown",
      "metadata": {
        "id": "view-in-github",
        "colab_type": "text"
      },
      "source": [
        "<a href=\"https://colab.research.google.com/github/WahyuniRirin/Brain-Tumor-Classification-Based-using-MRI-and-Machine-Learning/blob/main/brain_tumor_classification_using_cnn.ipynb\" target=\"_parent\"><img src=\"https://colab.research.google.com/assets/colab-badge.svg\" alt=\"Open In Colab\"/></a>"
      ]
    },
    {
      "cell_type": "code",
      "execution_count": null,
      "metadata": {
        "id": "GVYpxKkKyC6r"
      },
      "outputs": [],
      "source": [
        "# Import dataset from drive\n",
        "\n",
        "from google.colab import drive\n",
        "drive.mount('/content/drive')\n",
        "\n",
        "# Save model using joblib\n",
        "\n",
        "import joblib\n",
        "joblib.dump(model, '/content/drive/MyDrive/brain_tumor_dataset_1.pkl')"
      ]
    }
  ]
}